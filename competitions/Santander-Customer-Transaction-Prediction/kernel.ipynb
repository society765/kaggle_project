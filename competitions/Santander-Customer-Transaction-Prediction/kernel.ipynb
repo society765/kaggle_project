{
 "cells": [
  {
   "cell_type": "code",
   "execution_count": null,
   "metadata": {},
   "outputs": [],
   "source": [
    "import pandas as pd \n",
    "import numpy as np \n",
    "import seaborn as sns \n",
    "\n",
    "from sklearn.model_selection import train_test_split\n",
    "from sklearn.metrics import roc_auc_score \n",
    "from sklearn.ensemble import RandomForestClassifier \n",
    "\n",
    "from xgboost import XGBClassifier\n",
    "\n",
    "print(pd.__version__)"
   ]
  },
  {
   "cell_type": "code",
   "execution_count": null,
   "metadata": {},
   "outputs": [],
   "source": [
    "dirc = '../../data/Santander-Customer-Transaction-Prediction/'\n",
    "\n",
    "train = pd.read_csv(dirc + 'train.csv.zip', compression='zip')\n",
    "test = pd.read_csv(dirc + 'test.csv.zip', compression='zip')\n",
    "submission = pd.read_csv(dirc + 'sample_submission.csv.zip', compression='zip')\n",
    "\n",
    "x = train.drop(['target', 'ID_code'], axis=1)\n",
    "y = train['target'].astype('int')\n",
    "\n",
    "test.drop('ID_code', axis=1, inplace=True)\n",
    "\n",
    "train_x, val_x, train_y, val_y = train_test_split(x, y, test_size = 0.10) "
   ]
  },
  {
   "cell_type": "code",
   "execution_count": null,
   "metadata": {},
   "outputs": [],
   "source": [
    "model = XGBClassifier(n_estimators=5, n_jobs=-1)\n",
    "model.fit(train_x, train_y, eval_set=[(val_x, val_y)], eval_metric='auc', early_stopping_rounds=5) \n",
    "\n",
    "pred = model.predict_proba(val_x)[:, 1]\n",
    "\n",
    "print(roc_auc_score(val_y, pred))"
   ]
  },
  {
   "cell_type": "code",
   "execution_count": null,
   "metadata": {},
   "outputs": [],
   "source": [
    "submission['target'] = model.predict_proba(test)[:, 1]\n",
    "submission.to_csv('submission.csv', index=False)"
   ]
  },
  {
   "cell_type": "code",
   "execution_count": null,
   "metadata": {},
   "outputs": [],
   "source": []
  }
 ],
 "metadata": {
  "kernelspec": {
   "display_name": "Python 3",
   "language": "python",
   "name": "python3"
  },
  "language_info": {
   "codemirror_mode": {
    "name": "ipython",
    "version": 3
   },
   "file_extension": ".py",
   "mimetype": "text/x-python",
   "name": "python",
   "nbconvert_exporter": "python",
   "pygments_lexer": "ipython3",
   "version": "3.6.5"
  }
 },
 "nbformat": 4,
 "nbformat_minor": 2
}
