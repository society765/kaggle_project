{
 "cells": [
  {
   "cell_type": "code",
   "execution_count": null,
   "metadata": {},
   "outputs": [],
   "source": [
    "import pandas as pd \n",
    "import numpy as np \n",
    "import seaborn as sns\n",
    "import matplotlib.pyplot as plt\n",
    "\n",
    "from sklearn.model_selection import train_test_split, cross_val_score\n",
    "from sklearn.metrics import accuracy_score\n",
    "from sklearn.ensemble import RandomForestClassifier, AdaBoostClassifier\n",
    "\n",
    "from xgboost import XGBClassifier\n",
    "\n",
    "import sys \n",
    "\n",
    "print('python version:', sys.version)\n",
    "print('pandas version:', pd.__version__)"
   ]
  },
  {
   "cell_type": "code",
   "execution_count": null,
   "metadata": {},
   "outputs": [],
   "source": [
    "dirc = '../../data/titanic/'\n",
    "train = pd.read_csv(dirc + 'train.csv')\n",
    "test = pd.read_csv(dirc + 'test.csv')\n",
    "submission = pd.read_csv(dirc + 'gender_submission.csv')\n",
    "\n",
    "data = pd.concat([train, test], axis=0, ignore_index=True, sort=False)"
   ]
  },
  {
   "cell_type": "code",
   "execution_count": null,
   "metadata": {
    "scrolled": false
   },
   "outputs": [],
   "source": [
    "data.head()"
   ]
  },
  {
   "cell_type": "code",
   "execution_count": null,
   "metadata": {
    "scrolled": true
   },
   "outputs": [],
   "source": [
    "agefill=data.groupby(['SibSp']).Age.mean()\n",
    "data.groupby(['SibSp']).Age.agg(['mean', 'count'])"
   ]
  },
  {
   "cell_type": "code",
   "execution_count": null,
   "metadata": {},
   "outputs": [],
   "source": [
    "print(data.isna().sum().sort_values(ascending=False))\n",
    "\n",
    "plt.figure(figsize=(10, 10))\n",
    "sns.heatmap(\n",
    "    data.isna(),\n",
    "    cbar=False, cmap='Reds', yticklabels=False\n",
    ")"
   ]
  },
  {
   "cell_type": "code",
   "execution_count": null,
   "metadata": {
    "scrolled": false
   },
   "outputs": [],
   "source": [
    "data1 = data.copy()\n",
    "\n",
    "# fill Last Name\n",
    "#data1['LN'] = data1.Name.map(lambda x: x.split(',')[0])\n",
    "\n",
    "# drop these columns, either irrelevant or too many NaN \n",
    "data1.drop(['PassengerId', 'Name', 'Cabin', 'Ticket'], axis=1, inplace=True)\n",
    "\n",
    "# fill Embarked with the most frequent values\n",
    "most_embarked = data.Embarked.value_counts().idxmax()\n",
    "data1.Embarked.fillna(most_embarked, inplace=True)\n",
    "\n",
    "# convert Sex to 0 and 1 values\n",
    "data1.Sex.replace({'male': 0, 'female': 1}, inplace=True)\n",
    "data1.Sex.astype('int64')\n",
    "\n",
    "# fill the only missed Fare value using mean\n",
    "#data1.Fare.fillna(data1.Fare.mean(), inplace=True)\n",
    "\n",
    "# handle Age_missed \n",
    "data1['Age_missed'] = data1.Age.isna()\n",
    "#data1.Age.fillna(-1, inplace=True)\n",
    "\n",
    "# use sibsp average to fill NaN in Age \n",
    "agefill=data.groupby(['SibSp']).Age.mean()\n",
    "def sibspfillna(row): \n",
    "    if np.isnan(row.Age): \n",
    "        row['Age'] = agefill[row['SibSp']]\n",
    "    return row\n",
    "data1 = data1.apply(sibspfillna, axis=1)\n",
    "\n",
    "data1.info(memory_usage='deep')"
   ]
  },
  {
   "cell_type": "code",
   "execution_count": null,
   "metadata": {},
   "outputs": [],
   "source": [
    "plt.figure(figsize=(8, 6))\n",
    "sns.heatmap(\n",
    "    data1.drop('Embarked', axis=1).corr(), \n",
    "    annot=True, cmap='YlGnBu', linewidths=0.01, square=True\n",
    ")"
   ]
  },
  {
   "cell_type": "code",
   "execution_count": null,
   "metadata": {},
   "outputs": [],
   "source": [
    "obj_col = [col for col in data1.columns \n",
    "                       if data1[col].dtype == 'object']\n",
    "print('to be dummied:', obj_col)\n",
    "\n",
    "if obj_col: \n",
    "    obj_dummies = pd.get_dummies(data1[obj_col])\n",
    "    data1 = pd.concat([data1, obj_dummies], axis=1)\n",
    "    data1.drop(obj_col, axis=1, inplace=True)\n",
    "\n",
    "train_set = data1[data1.Survived.notna()]\n",
    "x = train_set.drop('Survived', axis=1)\n",
    "y = train_set['Survived']\n",
    "\n",
    "test_set = data1[data1.Survived.isna()].drop('Survived', axis=1)\n",
    "\n",
    "print(x.shape, test_set.shape)"
   ]
  },
  {
   "cell_type": "code",
   "execution_count": null,
   "metadata": {},
   "outputs": [],
   "source": [
    "train_x, val_x, train_y, val_y = train_test_split(x, y, test_size = 0.10)\n",
    "\n",
    "model = XGBClassifier(max_depth=3, n_estimators=2000, \n",
    "                      learning_rate=0.01, n_jobs=1, min_samples_leaf=3, reg_alpha=0.1, reg_lambda=0.1)\n",
    "fitpm={'eval_set': [(val_x, val_y)], 'early_stopping_rounds': 20, 'eval_metric': 'error', 'verbose': False}\n",
    "\n",
    "cvs = cross_val_score(model, train_x, train_y, cv=5, n_jobs=4, verbose=2, fit_params=fitpm)\n",
    "print('CV mean:', cvs.mean())\n",
    "\n",
    "model.fit(train_x, train_y, **fitpm)\n",
    "pred = model.predict(val_x)\n",
    "print('train score:', accuracy_score(val_y, pred))"
   ]
  },
  {
   "cell_type": "code",
   "execution_count": null,
   "metadata": {},
   "outputs": [],
   "source": [
    "model.fit(x, y, **fitpm)\n",
    "submission['Survived'] = model.predict(test_set).astype(int)\n",
    "submission.to_csv('submission.csv', index=False)"
   ]
  },
  {
   "cell_type": "code",
   "execution_count": null,
   "metadata": {},
   "outputs": [],
   "source": []
  }
 ],
 "metadata": {
  "kernelspec": {
   "display_name": "Python 3",
   "language": "python",
   "name": "python3"
  },
  "language_info": {
   "codemirror_mode": {
    "name": "ipython",
    "version": 3
   },
   "file_extension": ".py",
   "mimetype": "text/x-python",
   "name": "python",
   "nbconvert_exporter": "python",
   "pygments_lexer": "ipython3",
   "version": "3.6.5"
  }
 },
 "nbformat": 4,
 "nbformat_minor": 2
}
