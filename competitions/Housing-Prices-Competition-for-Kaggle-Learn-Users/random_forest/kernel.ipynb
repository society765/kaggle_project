{
 "cells": [
  {
   "cell_type": "markdown",
   "metadata": {},
   "source": [
    "Housing Prices Competition for Kaggle Learn Users\n",
    "Apply what you learned in the Machine Learning course on Kaggle Learn alongside others in the course.\n",
    "\n",
    "https://www.kaggle.com/c/home-data-for-ml-course\n",
    "\n",
    "### Import the libraries "
   ]
  },
  {
   "cell_type": "code",
   "execution_count": null,
   "metadata": {},
   "outputs": [],
   "source": [
    "import pandas as pd \n",
    "import numpy as np \n",
    "from sklearn.ensemble import RandomForestRegressor, ExtraTreesRegressor\n",
    "from sklearn.metrics import mean_absolute_error \n",
    "from sklearn.model_selection import train_test_split\n",
    "import seaborn as sns\n",
    "import matplotlib.pyplot as plt \n",
    "import math\n",
    "\n",
    "print(pd.__version__)"
   ]
  },
  {
   "cell_type": "markdown",
   "metadata": {},
   "source": [
    "### Read the data"
   ]
  },
  {
   "cell_type": "code",
   "execution_count": null,
   "metadata": {
    "scrolled": false
   },
   "outputs": [],
   "source": [
    "datadir = r'../../../data/Housing-Prices-Competition-for-Kaggle-Learn-Users/'\n",
    "sample_sub = pd.read_csv(datadir + 'sample_submission.csv')\n",
    "train1 = pd.read_csv(datadir + 'train.csv')\n",
    "test1 = pd.read_csv(datadir + 'test.csv')\n",
    "\n",
    "data = pd.concat([train1, test1], join='outer', ignore_index=True)"
   ]
  },
  {
   "cell_type": "code",
   "execution_count": null,
   "metadata": {},
   "outputs": [],
   "source": [
    "print(train1.shape)\n",
    "print(test1.shape)\n",
    "print(data.shape)"
   ]
  },
  {
   "cell_type": "markdown",
   "metadata": {},
   "source": [
    "### Check NAN\n",
    "partially referred from https://www.kaggle.com/drwilliamssteven/housing-data-random-forest "
   ]
  },
  {
   "cell_type": "code",
   "execution_count": null,
   "metadata": {},
   "outputs": [],
   "source": [
    "plt.figure(figsize=(20, 20))\n",
    "\n",
    "sns.heatmap(data.isnull(),\n",
    "            square=False,\n",
    "            annot=False,\n",
    "            yticklabels=False,\n",
    "            cbar=False,\n",
    "            cmap='viridis'            \n",
    "           )\n",
    "\n",
    "plt.title('Features with missing values');"
   ]
  },
  {
   "cell_type": "markdown",
   "metadata": {},
   "source": [
    "### Check NaN"
   ]
  },
  {
   "cell_type": "code",
   "execution_count": null,
   "metadata": {},
   "outputs": [],
   "source": [
    "print(\n",
    "    train1.loc[:, train1.isna().sum() > 0].shape,\n",
    "    test1.loc[:, test1.isna().sum() > 0].shape\n",
    ")"
   ]
  },
  {
   "cell_type": "markdown",
   "metadata": {},
   "source": [
    "### Fill NA for special data"
   ]
  },
  {
   "cell_type": "code",
   "execution_count": null,
   "metadata": {},
   "outputs": [],
   "source": [
    "#print(\"%s,\\t%s,\\t%s\" % ('column', 'NaN ratio in train data', '1st Maj / 2nd Maj ratio in train') )\n",
    "for col in data.columns[data.isna().sum() > 0]: \n",
    "    if col == 'SalePrice': \n",
    "        continue\n",
    "    \n",
    "    # only < 10% NaN ratio in All data\n",
    "    na_ratio = data[col].isna().sum() / data[col].size\n",
    "    \n",
    "    # the 1st majority count is 2 times greater than 2nd majority count\n",
    "    na_val_cnt = data[col].value_counts()\n",
    "    maj_val = na_val_cnt.idxmax()\n",
    "    if na_val_cnt.size >= 2:\n",
    "        maj_second_maj_ratio = na_val_cnt.iloc[0] / na_val_cnt.iloc[1]\n",
    "    else: \n",
    "        maj_second_maj_ratio = float('inf')\n",
    "\n",
    "    # can be filled \n",
    "    if na_ratio < 0.1 and maj_second_maj_ratio > 1.4: \n",
    "        maj_val = na_val_cnt.idxmax()\n",
    "        data[col] = data[col].fillna(maj_val)\n",
    "        print(\"%s filled at %s, maj_ratio = %.3f\" % (col, maj_val, maj_second_maj_ratio))\n",
    "    # should be dropped \n",
    "    elif na_ratio > 0.1 or maj_second_maj_ratio < 1.4: \n",
    "        data = data.drop(col, axis = 1)\n",
    "        print(\"%s dropped at NaN ratio %.3f\" % (col, na_ratio))\n",
    "    \n",
    "    # need to be handled\n",
    "    else:\n",
    "        print(\"To be handled: %s\\t%.3f\\t%.3f\" % (col, na_ratio, maj_second_maj_ratio) )\n",
    "        \n",
    "if data.columns[data.isna().sum() > 0].size <= 1: \n",
    "    print(data.columns[data.isna().sum() > 0])\n",
    "    print('No more NaN!')\n",
    "\n",
    "# convert data types\n",
    "for col in data.columns: \n",
    "    if col != 'SalePrice' and data[col].dtype == 'float64': \n",
    "        data[col] = data[col].astype('int64')"
   ]
  },
  {
   "cell_type": "markdown",
   "metadata": {},
   "source": [
    "### Plot KDE of a feature vs SalePrice"
   ]
  },
  {
   "cell_type": "code",
   "execution_count": null,
   "metadata": {},
   "outputs": [],
   "source": [
    "plt.figure(figsize = (10, 6.18))\n",
    "sns.kdeplot(train1['SalePrice'], shade=True)"
   ]
  },
  {
   "cell_type": "code",
   "execution_count": null,
   "metadata": {
    "scrolled": false
   },
   "outputs": [],
   "source": [
    "feat = 'MSZoning'\n",
    "print(train1[feat].nunique())\n",
    "sns.pairplot(train1[[feat, 'SalePrice']], hue=feat, height=7)"
   ]
  },
  {
   "cell_type": "markdown",
   "metadata": {},
   "source": [
    "### GrLivArea:\n",
    "'Above grade (ground) living area square feet' is highly correlated"
   ]
  },
  {
   "cell_type": "code",
   "execution_count": null,
   "metadata": {
    "scrolled": false
   },
   "outputs": [],
   "source": [
    "feat1 = 'GrLivArea'\n",
    "sns.pairplot(train1[[feat1, 'SalePrice']], height=5)"
   ]
  },
  {
   "cell_type": "markdown",
   "metadata": {},
   "source": [
    "### Correlations\n",
    "partially referred from https://www.kaggle.com/drwilliamssteven/housing-data-random-forest "
   ]
  },
  {
   "cell_type": "code",
   "execution_count": null,
   "metadata": {
    "scrolled": false
   },
   "outputs": [],
   "source": [
    "plt.figure(figsize=(20, 20))\n",
    "sns.heatmap(\n",
    "    train1.corr(),\n",
    "    vmax=0.8, \n",
    "    linewidths=0.01,\n",
    "    square=True,\n",
    "    annot=True,  \n",
    "    cmap='YlGnBu',\n",
    "    linecolor=\"white\"\n",
    ")"
   ]
  },
  {
   "cell_type": "code",
   "execution_count": null,
   "metadata": {},
   "outputs": [],
   "source": [
    "train1.corr().SalePrice.sort_values(ascending=False)"
   ]
  },
  {
   "cell_type": "markdown",
   "metadata": {},
   "source": [
    "### Data preprocessing "
   ]
  },
  {
   "cell_type": "code",
   "execution_count": null,
   "metadata": {},
   "outputs": [],
   "source": [
    "data_objs_column = list(data.columns[data.dtypes == 'object'])\n",
    "data_dummies = pd.get_dummies(data[data_objs_column])\n",
    "data1 = pd.concat([data, data_dummies], axis=1)\n",
    "data1 = data1.drop(data_objs_column, axis = 1)\n",
    "\n",
    "train_set = data1[data1.SalePrice.notna()]\n",
    "val_set = data1[data1.SalePrice.isna()].drop('SalePrice', axis=1)\n",
    "val_set = val_set.fillna(0)\n",
    "\n",
    "x = train_set.drop('SalePrice', axis=1)\n",
    "y = train_set.SalePrice"
   ]
  },
  {
   "cell_type": "markdown",
   "metadata": {},
   "source": [
    "### Do the fitting"
   ]
  },
  {
   "cell_type": "code",
   "execution_count": null,
   "metadata": {},
   "outputs": [],
   "source": [
    "train_part = True\n",
    "\n",
    "if train_part:\n",
    "    train_x, val_x, train_y, val_y = train_test_split(x, y, test_size = 0.05)\n",
    "else:     \n",
    "    train_x, train_y = x, y\n",
    "\n",
    "train_model = RandomForestRegressor(n_estimators=200, criterion='mae', n_jobs=-1, \n",
    "                                    max_features = 0.5, min_samples_leaf = 2)\n",
    "train_model.fit(train_x, train_y)\n",
    "\n",
    "if train_part:\n",
    "    pred_y = train_model.predict(val_x)\n",
    "\n",
    "    print('average sale price:', train1.SalePrice.mean())\n",
    "    print('our MAE:', mean_absolute_error(val_y, pred_y))\n",
    "\n",
    "    sns.distplot(val_y - pred_y)"
   ]
  },
  {
   "cell_type": "markdown",
   "metadata": {},
   "source": [
    "### Generate output\n",
    "Score: 16414, rank: 621/3617, as of 03/04/2019"
   ]
  },
  {
   "cell_type": "code",
   "execution_count": null,
   "metadata": {},
   "outputs": [],
   "source": [
    "pred = train_model.predict(val_set)\n",
    "sample_sub['SalePrice'] = pred\n",
    "sample_sub.describe()"
   ]
  },
  {
   "cell_type": "code",
   "execution_count": null,
   "metadata": {},
   "outputs": [],
   "source": [
    "sample_sub.to_csv('submission.csv', index=False)"
   ]
  },
  {
   "cell_type": "code",
   "execution_count": null,
   "metadata": {},
   "outputs": [],
   "source": []
  }
 ],
 "metadata": {
  "kernelspec": {
   "display_name": "Python 3",
   "language": "python",
   "name": "python3"
  },
  "language_info": {
   "codemirror_mode": {
    "name": "ipython",
    "version": 3
   },
   "file_extension": ".py",
   "mimetype": "text/x-python",
   "name": "python",
   "nbconvert_exporter": "python",
   "pygments_lexer": "ipython3",
   "version": "3.6.5"
  }
 },
 "nbformat": 4,
 "nbformat_minor": 2
}
