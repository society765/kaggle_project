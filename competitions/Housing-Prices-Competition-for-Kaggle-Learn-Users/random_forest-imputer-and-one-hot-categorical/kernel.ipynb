{
 "cells": [
  {
   "cell_type": "markdown",
   "metadata": {},
   "source": [
    "Housing Prices Competition for Kaggle Learn Users\n",
    "Apply what you learned in the Machine Learning course on Kaggle Learn alongside others in the course.\n",
    "\n",
    "https://www.kaggle.com/c/home-data-for-ml-course\n",
    "\n",
    "### Import the libraries "
   ]
  },
  {
   "cell_type": "code",
   "execution_count": null,
   "metadata": {},
   "outputs": [],
   "source": [
    "import pandas as pd \n",
    "import numpy as np \n",
    "from sklearn.ensemble import RandomForestRegressor, ExtraTreesRegressor\n",
    "from sklearn.impute import SimpleImputer \n",
    "from sklearn.metrics import mean_absolute_error \n",
    "from sklearn.model_selection import train_test_split\n",
    "import seaborn as sns\n",
    "import matplotlib.pyplot as plt \n",
    "import math\n",
    "\n",
    "print(pd.__version__)"
   ]
  },
  {
   "cell_type": "markdown",
   "metadata": {},
   "source": [
    "### Read the data"
   ]
  },
  {
   "cell_type": "code",
   "execution_count": null,
   "metadata": {
    "scrolled": false
   },
   "outputs": [],
   "source": [
    "datadir = '../../../data/Housing-Prices-Competition-for-Kaggle-Learn-Users/'\n",
    "sample_sub = pd.read_csv(datadir + 'sample_submission.csv')\n",
    "train1 = pd.read_csv(datadir + 'train.csv')\n",
    "test1 = pd.read_csv(datadir + 'test.csv')\n",
    "\n",
    "data1 = pd.concat([train1, test1], join='outer', ignore_index=True)"
   ]
  },
  {
   "cell_type": "code",
   "execution_count": null,
   "metadata": {},
   "outputs": [],
   "source": [
    "print(train1.shape)\n",
    "print(test1.shape)\n",
    "print(data1.shape)"
   ]
  },
  {
   "cell_type": "markdown",
   "metadata": {},
   "source": [
    "### Check NAN\n",
    "partially referred from https://www.kaggle.com/drwilliamssteven/housing-data-random-forest "
   ]
  },
  {
   "cell_type": "code",
   "execution_count": null,
   "metadata": {},
   "outputs": [],
   "source": [
    "plt.figure(figsize=(20, 20))\n",
    "\n",
    "sns.heatmap(data1.isnull(),\n",
    "            square=False,\n",
    "            annot=False,\n",
    "            yticklabels=False,\n",
    "            cbar=False,\n",
    "            cmap='viridis'            \n",
    "           )\n",
    "\n",
    "plt.title('Features with missing values');"
   ]
  },
  {
   "cell_type": "markdown",
   "metadata": {},
   "source": [
    "### Data preprocessing "
   ]
  },
  {
   "cell_type": "code",
   "execution_count": null,
   "metadata": {},
   "outputs": [],
   "source": [
    "data = data1.copy()\n",
    "data.drop('Id', axis=1, inplace=True)\n",
    "\n",
    "# impute\n",
    "for col in data.columns:\n",
    "    # NaN ratio in a given column \n",
    "    na_ratio = data[col].isna().sum() / data[col].size\n",
    "    \n",
    "    # continue if no NaN, or col = 'SalePrice' \n",
    "    if na_ratio == 0 or col == 'SalePrice': \n",
    "        continue \n",
    "    # drop column if NaN ratio too large, > 0.2 here\n",
    "    elif na_ratio > 0.2: \n",
    "        data.drop(col, axis=1, inplace=True)\n",
    "        continue\n",
    "    \n",
    "    # use mean to impute numeric data\n",
    "    if data[col].dtype in ['int64', 'float64']: \n",
    "        int_imputer = SimpleImputer(strategy='mean') \n",
    "        data[col] = int_imputer.fit_transform(data[col].values.reshape(-1, 1))\n",
    "        data[col] = data[col].astype('int64')\n",
    "    # use most_frequent to impute str data\n",
    "    elif data[col].dtype == 'object': \n",
    "        str_imputer = SimpleImputer(strategy='most_frequent') \n",
    "        data[col] = str_imputer.fit_transform(data[col].values.reshape(-1, 1))\n",
    "\n",
    "# get dummies for categorical data \n",
    "obj_cols = [col for col in data.columns if data[col].dtype == 'object']\n",
    "obj_dummies = pd.get_dummies(data[obj_cols])\n",
    "data.drop(obj_cols, axis=1, inplace=True)\n",
    "data = pd.concat([data, obj_dummies], axis=1)\n",
    "\n",
    "test_set = data[data.SalePrice.isna()]\n",
    "train_set = data[data.SalePrice.notna()]\n",
    "\n",
    "x = train_set.drop('SalePrice', axis=1)\n",
    "y = train_set['SalePrice']\n",
    "test_set.drop('SalePrice', axis=1, inplace=True)"
   ]
  },
  {
   "cell_type": "markdown",
   "metadata": {},
   "source": [
    "### Do the fitting"
   ]
  },
  {
   "cell_type": "code",
   "execution_count": null,
   "metadata": {},
   "outputs": [],
   "source": [
    "train_part = True\n",
    "\n",
    "if train_part:\n",
    "    train_x, val_x, train_y, val_y = train_test_split(x, y, test_size = 0.05)\n",
    "else:     \n",
    "    train_x, train_y = x, y\n",
    "\n",
    "train_model = RandomForestRegressor(n_estimators=600, criterion='mae', n_jobs=-1, \n",
    "                                    max_features = 0.5, min_samples_leaf = 2)\n",
    "train_model.fit(train_x, train_y)\n",
    "\n",
    "if train_part:\n",
    "    pred_y = train_model.predict(val_x)\n",
    "\n",
    "    print('average sale price:', train1.SalePrice.mean())\n",
    "    print('MAE:', mean_absolute_error(val_y, pred_y))\n",
    "\n",
    "    sns.distplot(val_y - pred_y)"
   ]
  },
  {
   "cell_type": "markdown",
   "metadata": {},
   "source": [
    "### Generate output\n",
    "Score: 15739, rank: ~445/3675, as of 03/06/2019"
   ]
  },
  {
   "cell_type": "code",
   "execution_count": null,
   "metadata": {},
   "outputs": [],
   "source": [
    "pred = train_model.predict(test_set)\n",
    "sample_sub['SalePrice'] = pred\n",
    "print(sample_sub.SalePrice.describe())\n",
    "sample_sub.head()"
   ]
  },
  {
   "cell_type": "code",
   "execution_count": null,
   "metadata": {},
   "outputs": [],
   "source": [
    "sample_sub.to_csv('submission.csv', index=False)"
   ]
  },
  {
   "cell_type": "code",
   "execution_count": null,
   "metadata": {},
   "outputs": [],
   "source": []
  }
 ],
 "metadata": {
  "kernelspec": {
   "display_name": "Python 3",
   "language": "python",
   "name": "python3"
  },
  "language_info": {
   "codemirror_mode": {
    "name": "ipython",
    "version": 3
   },
   "file_extension": ".py",
   "mimetype": "text/x-python",
   "name": "python",
   "nbconvert_exporter": "python",
   "pygments_lexer": "ipython3",
   "version": "3.6.5"
  }
 },
 "nbformat": 4,
 "nbformat_minor": 2
}
